{
 "cells": [
  {
   "cell_type": "code",
   "execution_count": 1,
   "id": "c9ce73be",
   "metadata": {},
   "outputs": [],
   "source": [
    "import json\n",
    "import random\n",
    "from pathlib import Path\n",
    "\n",
    "def consolidate_split_per_file(\n",
    "    parts_dir: str,\n",
    "    train_output: str,\n",
    "    test_output: str,\n",
    "    test_size: float = 0.2,\n",
    "    seed: int = 42\n",
    "):\n",
    "    \"\"\"\n",
    "    For each .jsonl/.json in parts_dir:\n",
    "      - read its records\n",
    "      - shuffle & split into train/test (by test_size)\n",
    "    Then merge all train parts into train_output,\n",
    "    and all test parts into test_output.\n",
    "    \"\"\"\n",
    "    parts_path = Path(parts_dir)\n",
    "    train_records = []\n",
    "    test_records  = []\n",
    "\n",
    "    random.seed(seed)\n",
    "\n",
    "    # 1) Process each file separately\n",
    "    for pattern in (\"*.jsonl\", \"*.json\"):\n",
    "        for file_path in parts_path.glob(pattern):\n",
    "            # load this file\n",
    "            with open(file_path, \"r\", encoding=\"utf-8\") as f:\n",
    "                lines = [line.strip() for line in f if line.strip()]\n",
    "                # parse JSON\n",
    "                recs = [json.loads(line) for line in lines]\n",
    "\n",
    "            # shuffle + split\n",
    "            random.shuffle(recs)\n",
    "            split_idx = int(len(recs) * (1 - test_size))\n",
    "            train_records.extend(recs[:split_idx])\n",
    "            test_records.extend(recs[split_idx:])\n",
    "\n",
    "    # 2) Helper to write a list of dicts to JSONL\n",
    "    def write_jsonl(recs, out_path):\n",
    "        out = Path(out_path)\n",
    "        out.parent.mkdir(parents=True, exist_ok=True)\n",
    "        with open(out, \"w\", encoding=\"utf-8\") as fw:\n",
    "            for rec in recs:\n",
    "                fw.write(json.dumps(rec, ensure_ascii=False) + \"\\n\")\n",
    "\n",
    "    # 3) Write consolidated files\n",
    "    write_jsonl(train_records, train_output)\n",
    "    write_jsonl(test_records,  test_output)\n",
    "\n",
    "    print(f\"Wrote {len(train_records)} records to {train_output}\")\n",
    "    print(f\"Wrote {len(test_records)}  records to {test_output}\")\n"
   ]
  },
  {
   "cell_type": "code",
   "execution_count": 2,
   "id": "9945f9b8",
   "metadata": {},
   "outputs": [
    {
     "name": "stdout",
     "output_type": "stream",
     "text": [
      "Wrote 241 records to datasets/curated/mirai/train/dataset.jsonl\n",
      "Wrote 61  records to datasets/curated/mirai/test/dataset.jsonl\n"
     ]
    }
   ],
   "source": [
    "consolidate_split_per_file(\n",
    "    parts_dir   = \"datasets/curated/mirai/parts\",\n",
    "    train_output= \"datasets/curated/mirai/train/dataset.jsonl\",\n",
    "    test_output = \"datasets/curated/mirai/test/dataset.jsonl\",\n",
    "    test_size   = 0.2,     # 20% test / 80% train\n",
    "    seed        = 4242\n",
    ")"
   ]
  }
 ],
 "metadata": {
  "kernelspec": {
   "display_name": "mirai-uLPtLm8D-py3.12",
   "language": "python",
   "name": "python3"
  },
  "language_info": {
   "codemirror_mode": {
    "name": "ipython",
    "version": 3
   },
   "file_extension": ".py",
   "mimetype": "text/x-python",
   "name": "python",
   "nbconvert_exporter": "python",
   "pygments_lexer": "ipython3",
   "version": "3.12.3"
  }
 },
 "nbformat": 4,
 "nbformat_minor": 5
}
