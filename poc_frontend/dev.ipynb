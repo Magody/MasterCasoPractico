{
 "cells": [
  {
   "cell_type": "markdown",
   "id": "4907d003",
   "metadata": {},
   "source": [
    "# TTS"
   ]
  },
  {
   "cell_type": "markdown",
   "id": "d09f2d46",
   "metadata": {},
   "source": [
    "## Kokoro"
   ]
  },
  {
   "cell_type": "code",
   "execution_count": 2,
   "id": "0eafba19",
   "metadata": {},
   "outputs": [
    {
     "name": "stdout",
     "output_type": "stream",
     "text": [
      "WARNING: Defaulting repo_id to hexgrad/Kokoro-82M. Pass repo_id='hexgrad/Kokoro-82M' to suppress this warning.\n"
     ]
    },
    {
     "ename": "FileNotFoundError",
     "evalue": "[Errno 2] No such file or directory: './kokoro-voices/ef_dora.pt'",
     "output_type": "error",
     "traceback": [
      "\u001b[31m---------------------------------------------------------------------------\u001b[39m",
      "\u001b[31mFileNotFoundError\u001b[39m                         Traceback (most recent call last)",
      "\u001b[36mCell\u001b[39m\u001b[36m \u001b[39m\u001b[32mIn[2]\u001b[39m\u001b[32m, line 19\u001b[39m\n\u001b[32m     16\u001b[39m weight2 = \u001b[32m0\u001b[39m   \u001b[38;5;66;03m# 0, 0.7\u001b[39;00m\n\u001b[32m     17\u001b[39m weight3 = \u001b[32m0\u001b[39m   \u001b[38;5;66;03m# 0, 0.7\u001b[39;00m\n\u001b[32m---> \u001b[39m\u001b[32m19\u001b[39m voice1 = \u001b[43mtorch\u001b[49m\u001b[43m.\u001b[49m\u001b[43mload\u001b[49m\u001b[43m(\u001b[49m\u001b[33;43mf\u001b[39;49m\u001b[33;43m\"\u001b[39;49m\u001b[38;5;132;43;01m{\u001b[39;49;00m\u001b[43mvoices_path\u001b[49m\u001b[38;5;132;43;01m}\u001b[39;49;00m\u001b[33;43m/ef_dora.pt\u001b[39;49m\u001b[33;43m\"\u001b[39;49m\u001b[43m,\u001b[49m\u001b[43m \u001b[49m\u001b[43mweights_only\u001b[49m\u001b[43m=\u001b[49m\u001b[38;5;28;43;01mTrue\u001b[39;49;00m\u001b[43m)\u001b[49m\n\u001b[32m     20\u001b[39m voice2 = torch.load(\u001b[33mf\u001b[39m\u001b[33m\"\u001b[39m\u001b[38;5;132;01m{\u001b[39;00mvoices_path\u001b[38;5;132;01m}\u001b[39;00m\u001b[33m/jf_tebukuro.pt\u001b[39m\u001b[33m\"\u001b[39m, weights_only=\u001b[38;5;28;01mTrue\u001b[39;00m)\n\u001b[32m     21\u001b[39m voice3 = torch.load(\u001b[33mf\u001b[39m\u001b[33m\"\u001b[39m\u001b[38;5;132;01m{\u001b[39;00mvoices_path\u001b[38;5;132;01m}\u001b[39;00m\u001b[33m/af_jessica.pt\u001b[39m\u001b[33m\"\u001b[39m, weights_only=\u001b[38;5;28;01mTrue\u001b[39;00m)\n",
      "\u001b[36mFile \u001b[39m\u001b[32mc:\\Users\\magod\\anaconda3\\envs\\env_vtuber\\Lib\\site-packages\\torch\\serialization.py:1479\u001b[39m, in \u001b[36mload\u001b[39m\u001b[34m(f, map_location, pickle_module, weights_only, mmap, **pickle_load_args)\u001b[39m\n\u001b[32m   1476\u001b[39m \u001b[38;5;28;01mif\u001b[39;00m \u001b[33m\"\u001b[39m\u001b[33mencoding\u001b[39m\u001b[33m\"\u001b[39m \u001b[38;5;129;01mnot\u001b[39;00m \u001b[38;5;129;01min\u001b[39;00m pickle_load_args.keys():\n\u001b[32m   1477\u001b[39m     pickle_load_args[\u001b[33m\"\u001b[39m\u001b[33mencoding\u001b[39m\u001b[33m\"\u001b[39m] = \u001b[33m\"\u001b[39m\u001b[33mutf-8\u001b[39m\u001b[33m\"\u001b[39m\n\u001b[32m-> \u001b[39m\u001b[32m1479\u001b[39m \u001b[38;5;28;01mwith\u001b[39;00m \u001b[43m_open_file_like\u001b[49m\u001b[43m(\u001b[49m\u001b[43mf\u001b[49m\u001b[43m,\u001b[49m\u001b[43m \u001b[49m\u001b[33;43m\"\u001b[39;49m\u001b[33;43mrb\u001b[39;49m\u001b[33;43m\"\u001b[39;49m\u001b[43m)\u001b[49m \u001b[38;5;28;01mas\u001b[39;00m opened_file:\n\u001b[32m   1480\u001b[39m     \u001b[38;5;28;01mif\u001b[39;00m _is_zipfile(opened_file):\n\u001b[32m   1481\u001b[39m         \u001b[38;5;66;03m# The zipfile reader is going to advance the current file position.\u001b[39;00m\n\u001b[32m   1482\u001b[39m         \u001b[38;5;66;03m# If we want to actually tail call to torch.jit.load, we need to\u001b[39;00m\n\u001b[32m   1483\u001b[39m         \u001b[38;5;66;03m# reset back to the original position.\u001b[39;00m\n\u001b[32m   1484\u001b[39m         orig_position = opened_file.tell()\n",
      "\u001b[36mFile \u001b[39m\u001b[32mc:\\Users\\magod\\anaconda3\\envs\\env_vtuber\\Lib\\site-packages\\torch\\serialization.py:759\u001b[39m, in \u001b[36m_open_file_like\u001b[39m\u001b[34m(name_or_buffer, mode)\u001b[39m\n\u001b[32m    757\u001b[39m \u001b[38;5;28;01mdef\u001b[39;00m\u001b[38;5;250m \u001b[39m\u001b[34m_open_file_like\u001b[39m(name_or_buffer: FileLike, mode: \u001b[38;5;28mstr\u001b[39m) -> _opener[IO[\u001b[38;5;28mbytes\u001b[39m]]:\n\u001b[32m    758\u001b[39m     \u001b[38;5;28;01mif\u001b[39;00m _is_path(name_or_buffer):\n\u001b[32m--> \u001b[39m\u001b[32m759\u001b[39m         \u001b[38;5;28;01mreturn\u001b[39;00m \u001b[43m_open_file\u001b[49m\u001b[43m(\u001b[49m\u001b[43mname_or_buffer\u001b[49m\u001b[43m,\u001b[49m\u001b[43m \u001b[49m\u001b[43mmode\u001b[49m\u001b[43m)\u001b[49m\n\u001b[32m    760\u001b[39m     \u001b[38;5;28;01melse\u001b[39;00m:\n\u001b[32m    761\u001b[39m         \u001b[38;5;28;01mif\u001b[39;00m \u001b[33m\"\u001b[39m\u001b[33mw\u001b[39m\u001b[33m\"\u001b[39m \u001b[38;5;129;01min\u001b[39;00m mode:\n",
      "\u001b[36mFile \u001b[39m\u001b[32mc:\\Users\\magod\\anaconda3\\envs\\env_vtuber\\Lib\\site-packages\\torch\\serialization.py:740\u001b[39m, in \u001b[36m_open_file.__init__\u001b[39m\u001b[34m(self, name, mode)\u001b[39m\n\u001b[32m    739\u001b[39m \u001b[38;5;28;01mdef\u001b[39;00m\u001b[38;5;250m \u001b[39m\u001b[34m__init__\u001b[39m(\u001b[38;5;28mself\u001b[39m, name: Union[\u001b[38;5;28mstr\u001b[39m, os.PathLike[\u001b[38;5;28mstr\u001b[39m]], mode: \u001b[38;5;28mstr\u001b[39m) -> \u001b[38;5;28;01mNone\u001b[39;00m:\n\u001b[32m--> \u001b[39m\u001b[32m740\u001b[39m     \u001b[38;5;28msuper\u001b[39m().\u001b[34m__init__\u001b[39m(\u001b[38;5;28;43mopen\u001b[39;49m\u001b[43m(\u001b[49m\u001b[43mname\u001b[49m\u001b[43m,\u001b[49m\u001b[43m \u001b[49m\u001b[43mmode\u001b[49m\u001b[43m)\u001b[49m)\n",
      "\u001b[31mFileNotFoundError\u001b[39m: [Errno 2] No such file or directory: './kokoro-voices/ef_dora.pt'"
     ]
    }
   ],
   "source": [
    "from kokoro import KPipeline\n",
    "from IPython.display import display, Audio\n",
    "import soundfile as sf\n",
    "import torch\n",
    "# 🇺🇸 'a' => American English, 🇬🇧 'b' => British English\n",
    "# 🇯🇵 'j' => Japanese: pip install misaki[ja]\n",
    "# 🇨🇳 'z' => Mandarin Chinese: pip install misaki[zh]\n",
    "pipeline = KPipeline(lang_code='e') # <= make sure lang_code matches voice\n",
    "\n",
    "voices_path = \"./kokoro-voices\"\n",
    "\n",
    "# This text is for demonstration purposes only, unseen during training\n",
    "text = '''¡Hey gente! Bienvenidos al stream, acomódense, agarren algo de tomar, y prepárense porque hoy se viene alta locura. ¡Let's gooo!'''\n",
    "\n",
    "weight1 = 1   # 1, 0.3 \n",
    "weight2 = 0   # 0, 0.7\n",
    "weight3 = 0   # 0, 0.7\n",
    "\n",
    "voice1 = torch.load(f\"{voices_path}/ef_dora.pt\", weights_only=True)\n",
    "voice2 = torch.load(f\"{voices_path}/jf_tebukuro.pt\", weights_only=True)\n",
    "voice3 = torch.load(f\"{voices_path}/af_jessica.pt\", weights_only=True)\n",
    "# Old man: em_santa\n",
    "# ef_dora (spanish base), af_aoede, af_heart, af_jessica [1], if_sara\n",
    "# japanese: jf_alpha [2], jf_tebukuro [1]\n",
    "\n",
    "sum_weights = weight1 + weight2 + weight3\n",
    "blended_voice = ((voice1 * weight1) + (voice2 * weight2) + (voice3 * weight3)) / sum_weights\n",
    "\n",
    "generator = pipeline(\n",
    "    text, voice=blended_voice,\n",
    "    speed=1.1, split_pattern=r'\\n+'\n",
    ")\n",
    "\n",
    "for i, (gs, ps, audio) in enumerate(generator):\n",
    "    print(i)  # i => index\n",
    "    print(gs) # gs => graphemes/text\n",
    "    print(ps) # ps => phonemes\n",
    "    display(Audio(data=audio, rate=24000, autoplay=i==0))\n",
    "    sf.write(f'./temp/kokoro_mirai_{i}.wav', audio, 24000) # save each audio file"
   ]
  },
  {
   "cell_type": "code",
   "execution_count": null,
   "id": "f5ef28f2",
   "metadata": {},
   "outputs": [
    {
     "name": "stdout",
     "output_type": "stream",
     "text": [
      "¡Claro! Y prepárate para que me ponga memes hasta las cejas.\n",
      "\n"
     ]
    }
   ],
   "source": [
    "from src import config\n",
    "from src.services.whisper import WhisperService\n",
    "\n",
    "\n",
    "whisper      = WhisperService(api_key=config.WHISPER_API_KEY)\n",
    "audio_path = \"./temp/user/stt_20250529_000635.wav\"\n",
    "with open(audio_path, \"rb\") as f:\n",
    "    # whisper-1, gpt-4o-transcribe\n",
    "    r = whisper.client.audio.transcriptions.create(\n",
    "        model=\"gpt-4o-transcribe\",\n",
    "        file=f,\n",
    "        response_format=\"text\",\n",
    "        language=\"es\"\n",
    "    )\n",
    "    print(r)"
   ]
  },
  {
   "cell_type": "code",
   "execution_count": 4,
   "id": "34f094a2",
   "metadata": {},
   "outputs": [
    {
     "ename": "TypeError",
     "evalue": "'Transcription' object is not subscriptable",
     "output_type": "error",
     "traceback": [
      "\u001b[31m---------------------------------------------------------------------------\u001b[39m",
      "\u001b[31mTypeError\u001b[39m                                 Traceback (most recent call last)",
      "\u001b[36mCell\u001b[39m\u001b[36m \u001b[39m\u001b[32mIn[4]\u001b[39m\u001b[32m, line 1\u001b[39m\n\u001b[32m----> \u001b[39m\u001b[32m1\u001b[39m \u001b[43mr\u001b[49m\u001b[43m[\u001b[49m\u001b[33;43m\"\u001b[39;49m\u001b[33;43msegments\u001b[39;49m\u001b[33;43m\"\u001b[39;49m\u001b[43m]\u001b[49m\n",
      "\u001b[31mTypeError\u001b[39m: 'Transcription' object is not subscriptable"
     ]
    }
   ],
   "source": [
    "r[\"segments\"]"
   ]
  },
  {
   "cell_type": "markdown",
   "id": "63c3b9f7",
   "metadata": {},
   "source": [
    "# Audio Broadcast"
   ]
  },
  {
   "cell_type": "code",
   "execution_count": 2,
   "id": "103c1191",
   "metadata": {},
   "outputs": [
    {
     "name": "stdout",
     "output_type": "stream",
     "text": [
      "Output‐capable devices:\n",
      " 7: Microsoft Sound Mapper - Output\n",
      " 8: DragonSpeakers (Realtek USB Aud\n",
      " 9: LG FULL HD (NVIDIA High Definit\n",
      "10: CABLE In 16ch (VB-Audio Virtual\n",
      "11: Headphones (VM70)\n",
      "12: CABLE Input (VB-Audio Virtual C\n",
      "13: C27F390 (NVIDIA High Definition\n",
      "14: Realtek Digital Output (Realtek\n",
      "15: Headphones (Oculus Virtual Audi\n",
      "23: Primary Sound Driver\n",
      "24: DragonSpeakers (Realtek USB Audio)\n",
      "25: LG FULL HD (NVIDIA High Definition Audio)\n",
      "26: CABLE In 16ch (VB-Audio Virtual Cable)\n",
      "27: Headphones (VM70)\n",
      "28: CABLE Input (VB-Audio Virtual Cable)\n",
      "29: C27F390 (NVIDIA High Definition Audio)\n",
      "30: Realtek Digital Output (Realtek USB Audio)\n",
      "31: Headphones (Oculus Virtual Audio Device)\n",
      "32: LG FULL HD (NVIDIA High Definition Audio)\n",
      "33: CABLE In 16ch (VB-Audio Virtual Cable)\n",
      "34: Headphones (VM70)\n",
      "35: CABLE Input (VB-Audio Virtual Cable)\n",
      "36: C27F390 (NVIDIA High Definition Audio)\n",
      "37: Realtek Digital Output (Realtek USB Audio)\n",
      "38: DragonSpeakers (Realtek USB Audio)\n",
      "39: Headphones (Oculus Virtual Audio Device)\n",
      "46: Output 1 (OCULUSVAD Wave Speaker Headphone)\n",
      "47: Output 2 (OCULUSVAD Wave Speaker Headphone)\n",
      "50: Output (NVIDIA High Definition Audio)\n",
      "51: Output (NVIDIA High Definition Audio)\n",
      "52: Output (VB-Audio Point)\n",
      "56: Headphones (Realtek USB Audio)\n",
      "57: Speakers (Realtek USB Audio)\n",
      "58: SPDIF Interface (Realtek USB Audio)\n",
      "62: Headphones (VM70)\n",
      "65: Speakers (VDVAD Wave)\n"
     ]
    }
   ],
   "source": [
    "from src.services.audio import AudioPlayer\n",
    "import sounddevice as sd\n",
    "\n",
    "print(\"Output‐capable devices:\")\n",
    "for i, dev in enumerate(sd.query_devices()):\n",
    "    if dev[\"max_output_channels\"] > 0:\n",
    "        print(f\"{i:2d}:\", dev[\"name\"])\n"
   ]
  },
  {
   "cell_type": "code",
   "execution_count": 8,
   "id": "739024eb",
   "metadata": {},
   "outputs": [
    {
     "name": "stdout",
     "output_type": "stream",
     "text": [
      "\n",
      "Playing temp/mirai.mp3 → cable + default\n"
     ]
    }
   ],
   "source": [
    "\n",
    "player = AudioPlayer()\n",
    "print(\"\\nPlaying temp/mirai.mp3 → cable + default\")\n",
    "player.play('temp/mirai.mp3', devices=('CABLE In','default'))"
   ]
  },
  {
   "cell_type": "code",
   "execution_count": null,
   "id": "6ef81687",
   "metadata": {},
   "outputs": [],
   "source": []
  },
  {
   "cell_type": "markdown",
   "id": "734c08b0",
   "metadata": {},
   "source": [
    "# Voice Activity Detection"
   ]
  },
  {
   "cell_type": "code",
   "execution_count": 4,
   "id": "e1500a12",
   "metadata": {},
   "outputs": [
    {
     "name": "stdout",
     "output_type": "stream",
     "text": [
      "\n",
      "=== All Stereo Mix candidates ===\n",
      " 0: [MME] Microsoft Sound Mapper - Input\n",
      " 1: [MME] Voicemeeter Out A1 (VB-Audio Vo\n",
      " 2: [MME] Headset Microphone (Oculus Virt\n",
      " 3: [MME] Microphone (C922 Pro Stream Web\n",
      " 4: [MME] Front Line (Realtek USB Audio)\n",
      " 5: [MME] CABLE Output (VB-Audio Virtual \n",
      " 6: [MME] DragonMic (VM70)\n",
      " 7: [MME] Voicemeeter Out A3 (VB-Audio Vo\n",
      " 8: [MME] Voicemeeter Out A2 (VB-Audio Vo\n",
      " 9: [MME] Voicemeeter Out B2 (VB-Audio Vo\n",
      "10: [MME] Microphone (NVIDIA Broadcast)\n",
      "11: [MME] Microphone (Virtual Desktop Aud\n",
      "12: [MME] Voicemeeter Out A4 (VB-Audio Vo\n",
      "13: [MME] Voicemeeter Out B1 (VB-Audio Vo\n",
      "14: [MME] Voicemeeter Out A5 (VB-Audio Vo\n",
      "15: [MME] Voicemeeter Out B3 (VB-Audio Vo\n",
      "16: [MME] Microsoft Sound Mapper - Output\n",
      "17: [MME] Voicemeeter Input (VB-Audio Voi\n",
      "18: [MME] Voicemeeter In 3 (VB-Audio Voic\n",
      "19: [MME] Voicemeeter In 2 (VB-Audio Voic\n",
      "20: [MME] Voicemeeter In 5 (VB-Audio Voic\n",
      "21: [MME] Speakers (NVIDIA Broadcast)\n",
      "22: [MME] Voicemeeter VAIO3 Input (VB-Aud\n",
      "23: [MME] Voicemeeter In 4 (VB-Audio Voic\n",
      "24: [MME] C27F390 (NVIDIA High Definition\n",
      "25: [MME] CABLE In 16ch (VB-Audio Virtual\n",
      "26: [MME] Headphones (VM70)\n",
      "27: [MME] CABLE Input (VB-Audio Virtual C\n",
      "28: [MME] Voicemeeter In 1 (VB-Audio Voic\n",
      "29: [MME] Realtek Digital Output (Realtek\n",
      "30: [MME] DragonSpeakers (Realtek USB Aud\n",
      "31: [MME] LG FULL HD (NVIDIA High Definit\n",
      "32: [MME] Voicemeeter AUX Input (VB-Audio\n",
      "33: [MME] Headphones (Oculus Virtual Audi\n",
      "34: [Windows DirectSound] Primary Sound Capture Driver\n",
      "35: [Windows DirectSound] Voicemeeter Out A1 (VB-Audio Voicemeeter VAIO)\n",
      "36: [Windows DirectSound] Headset Microphone (Oculus Virtual Audio Device)\n",
      "37: [Windows DirectSound] Microphone (C922 Pro Stream Webcam)\n",
      "38: [Windows DirectSound] Front Line (Realtek USB Audio)\n",
      "39: [Windows DirectSound] CABLE Output (VB-Audio Virtual Cable)\n",
      "40: [Windows DirectSound] DragonMic (VM70)\n",
      "41: [Windows DirectSound] Voicemeeter Out A3 (VB-Audio Voicemeeter VAIO)\n",
      "42: [Windows DirectSound] Voicemeeter Out A2 (VB-Audio Voicemeeter VAIO)\n",
      "43: [Windows DirectSound] Voicemeeter Out B2 (VB-Audio Voicemeeter VAIO)\n",
      "44: [Windows DirectSound] Microphone (NVIDIA Broadcast)\n",
      "45: [Windows DirectSound] Microphone (Virtual Desktop Audio)\n",
      "46: [Windows DirectSound] Voicemeeter Out A4 (VB-Audio Voicemeeter VAIO)\n",
      "47: [Windows DirectSound] Voicemeeter Out B1 (VB-Audio Voicemeeter VAIO)\n",
      "48: [Windows DirectSound] Voicemeeter Out A5 (VB-Audio Voicemeeter VAIO)\n",
      "49: [Windows DirectSound] Voicemeeter Out B3 (VB-Audio Voicemeeter VAIO)\n",
      "50: [Windows DirectSound] Primary Sound Driver\n",
      "51: [Windows DirectSound] Voicemeeter Input (VB-Audio Voicemeeter VAIO)\n",
      "52: [Windows DirectSound] Voicemeeter In 3 (VB-Audio Voicemeeter VAIO)\n",
      "53: [Windows DirectSound] Voicemeeter In 2 (VB-Audio Voicemeeter VAIO)\n",
      "54: [Windows DirectSound] Voicemeeter In 5 (VB-Audio Voicemeeter VAIO)\n",
      "55: [Windows DirectSound] Speakers (NVIDIA Broadcast)\n",
      "56: [Windows DirectSound] Voicemeeter VAIO3 Input (VB-Audio Voicemeeter VAIO)\n",
      "57: [Windows DirectSound] Voicemeeter In 4 (VB-Audio Voicemeeter VAIO)\n",
      "58: [Windows DirectSound] C27F390 (NVIDIA High Definition Audio)\n",
      "59: [Windows DirectSound] CABLE In 16ch (VB-Audio Virtual Cable)\n",
      "60: [Windows DirectSound] Headphones (VM70)\n",
      "61: [Windows DirectSound] CABLE Input (VB-Audio Virtual Cable)\n",
      "62: [Windows DirectSound] Voicemeeter In 1 (VB-Audio Voicemeeter VAIO)\n",
      "63: [Windows DirectSound] Realtek Digital Output (Realtek USB Audio)\n",
      "64: [Windows DirectSound] DragonSpeakers (Realtek USB Audio)\n",
      "65: [Windows DirectSound] LG FULL HD (NVIDIA High Definition Audio)\n",
      "66: [Windows DirectSound] Voicemeeter AUX Input (VB-Audio Voicemeeter VAIO)\n",
      "67: [Windows DirectSound] Headphones (Oculus Virtual Audio Device)\n",
      "68: [Windows WASAPI] Voicemeeter In 3 (VB-Audio Voicemeeter VAIO)\n",
      "69: [Windows WASAPI] Voicemeeter In 2 (VB-Audio Voicemeeter VAIO)\n",
      "70: [Windows WASAPI] Voicemeeter In 5 (VB-Audio Voicemeeter VAIO)\n",
      "71: [Windows WASAPI] Speakers (NVIDIA Broadcast)\n",
      "72: [Windows WASAPI] Voicemeeter VAIO3 Input (VB-Audio Voicemeeter VAIO)\n",
      "73: [Windows WASAPI] Voicemeeter In 4 (VB-Audio Voicemeeter VAIO)\n",
      "74: [Windows WASAPI] C27F390 (NVIDIA High Definition Audio)\n",
      "75: [Windows WASAPI] CABLE In 16ch (VB-Audio Virtual Cable)\n",
      "76: [Windows WASAPI] Headphones (VM70)\n",
      "77: [Windows WASAPI] CABLE Input (VB-Audio Virtual Cable)\n",
      "78: [Windows WASAPI] Voicemeeter Input (VB-Audio Voicemeeter VAIO)\n",
      "79: [Windows WASAPI] Voicemeeter In 1 (VB-Audio Voicemeeter VAIO)\n",
      "80: [Windows WASAPI] Realtek Digital Output (Realtek USB Audio)\n",
      "81: [Windows WASAPI] DragonSpeakers (Realtek USB Audio)\n",
      "82: [Windows WASAPI] LG FULL HD (NVIDIA High Definition Audio)\n",
      "83: [Windows WASAPI] Voicemeeter AUX Input (VB-Audio Voicemeeter VAIO)\n",
      "84: [Windows WASAPI] Headphones (Oculus Virtual Audio Device)\n",
      "85: [Windows WASAPI] Headset Microphone (Oculus Virtual Audio Device)\n",
      "86: [Windows WASAPI] Microphone (C922 Pro Stream Webcam)\n",
      "87: [Windows WASAPI] Front Line (Realtek USB Audio)\n",
      "88: [Windows WASAPI] CABLE Output (VB-Audio Virtual Cable)\n",
      "89: [Windows WASAPI] DragonMic (VM70)\n",
      "90: [Windows WASAPI] Voicemeeter Out A3 (VB-Audio Voicemeeter VAIO)\n",
      "91: [Windows WASAPI] Voicemeeter Out A2 (VB-Audio Voicemeeter VAIO)\n",
      "92: [Windows WASAPI] Voicemeeter Out B2 (VB-Audio Voicemeeter VAIO)\n",
      "93: [Windows WASAPI] Microphone (NVIDIA Broadcast)\n",
      "94: [Windows WASAPI] Voicemeeter Out A1 (VB-Audio Voicemeeter VAIO)\n",
      "95: [Windows WASAPI] Microphone (Virtual Desktop Audio)\n",
      "96: [Windows WASAPI] Voicemeeter Out A4 (VB-Audio Voicemeeter VAIO)\n",
      "97: [Windows WASAPI] Voicemeeter Out B1 (VB-Audio Voicemeeter VAIO)\n",
      "98: [Windows WASAPI] Voicemeeter Out A5 (VB-Audio Voicemeeter VAIO)\n",
      "99: [Windows WASAPI] Voicemeeter Out B3 (VB-Audio Voicemeeter VAIO)\n",
      "100: [Windows WDM-KS] Output (Voicemeeter Point 2)\n",
      "101: [Windows WDM-KS] Input (Voicemeeter Point 2)\n",
      "102: [Windows WDM-KS] Output (Voicemeeter Point 5)\n",
      "103: [Windows WDM-KS] Input (Voicemeeter Point 5)\n",
      "104: [Windows WDM-KS] Output (Voicemeeter Point 8)\n",
      "105: [Windows WDM-KS] Input (Voicemeeter Point 8)\n",
      "106: [Windows WDM-KS] Voicemeeter Out 2 (Voicemeeter Point 2)\n",
      "107: [Windows WDM-KS] Voicemeeter Out 5 (Voicemeeter Point 5)\n",
      "108: [Windows WDM-KS] Voicemeeter Out 8 (Voicemeeter Point 8)\n",
      "109: [Windows WDM-KS] Output (Voicemeeter Point 3)\n",
      "110: [Windows WDM-KS] Input (Voicemeeter Point 3)\n",
      "111: [Windows WDM-KS] Output (Voicemeeter Point 6)\n",
      "112: [Windows WDM-KS] Input (Voicemeeter Point 6)\n",
      "113: [Windows WDM-KS] Voicemeeter Out 3 (Voicemeeter Point 3)\n",
      "114: [Windows WDM-KS] Voicemeeter Out 6 (Voicemeeter Point 6)\n",
      "115: [Windows WDM-KS] Output (Voicemeeter Point 1)\n",
      "116: [Windows WDM-KS] Input (Voicemeeter Point 1)\n",
      "117: [Windows WDM-KS] Output (Voicemeeter Point 4)\n",
      "118: [Windows WDM-KS] Input (Voicemeeter Point 4)\n",
      "119: [Windows WDM-KS] Output (Voicemeeter Point 7)\n",
      "120: [Windows WDM-KS] Input (Voicemeeter Point 7)\n",
      "121: [Windows WDM-KS] Voicemeeter Out 1 (Voicemeeter Point 1)\n",
      "122: [Windows WDM-KS] Voicemeeter Out 4 (Voicemeeter Point 4)\n",
      "123: [Windows WDM-KS] Voicemeeter Out 7 (Voicemeeter Point 7)\n",
      "124: [Windows WDM-KS] Output (RTX-Audio Point)\n",
      "125: [Windows WDM-KS] Microphone (RTX-Audio Point)\n",
      "126: [Windows WDM-KS] Output 1 (OCULUSVAD Wave Speaker Headphone)\n",
      "127: [Windows WDM-KS] Output 2 (OCULUSVAD Wave Speaker Headphone)\n",
      "128: [Windows WDM-KS] Input (OCULUSVAD Wave Speaker Headphone)\n",
      "129: [Windows WDM-KS] Headset Microphone (OCULUSVAD Wave Microphone Headphone)\n",
      "130: [Windows WDM-KS] Output (NVIDIA High Definition Audio)\n",
      "131: [Windows WDM-KS] Output (NVIDIA High Definition Audio)\n",
      "132: [Windows WDM-KS] Output (VB-Audio Point)\n",
      "133: [Windows WDM-KS] Input (VB-Audio Point)\n",
      "134: [Windows WDM-KS] CABLE Output (VB-Audio Point)\n",
      "135: [Windows WDM-KS] Microphone (C922 Pro Stream Webcam)\n",
      "136: [Windows WDM-KS] Headphones (Realtek USB Audio)\n",
      "137: [Windows WDM-KS] Speakers (Realtek USB Audio)\n",
      "138: [Windows WDM-KS] SPDIF Interface (Realtek USB Audio)\n",
      "139: [Windows WDM-KS] Microphone (Realtek USB Audio)\n",
      "140: [Windows WDM-KS] Line In (Realtek USB Audio)\n",
      "141: [Windows WDM-KS] Stereo Mix (Realtek USB Audio)\n",
      "142: [Windows WDM-KS] Headphones (VM70)\n",
      "143: [Windows WDM-KS] Microphone (VM70)\n",
      "144: [Windows WDM-KS] Microphone (VDVAD Wave)\n",
      "145: [Windows WDM-KS] Speakers (VDVAD Wave)\n"
     ]
    }
   ],
   "source": [
    "import sounddevice as sd\n",
    "print(\"\\n=== All Stereo Mix candidates ===\")\n",
    "for i, dev in enumerate(sd.query_devices()):\n",
    "    host = sd.query_hostapis()[dev[\"hostapi\"]][\"name\"]\n",
    "    print(f\"{i:2d}: [{host}] {dev['name']}\")\n"
   ]
  },
  {
   "cell_type": "code",
   "execution_count": 60,
   "id": "25aa934f",
   "metadata": {},
   "outputs": [],
   "source": [
    "from src.utils.device_finder import find_device\n",
    "\n",
    "\n",
    "device_idx = find_device(\"stereo mix\")\n",
    "device_idx"
   ]
  },
  {
   "cell_type": "code",
   "execution_count": 61,
   "id": "9443fdb6",
   "metadata": {},
   "outputs": [],
   "source": [
    "device_idx"
   ]
  },
  {
   "cell_type": "markdown",
   "id": "09b4fcad",
   "metadata": {},
   "source": [
    "# END"
   ]
  }
 ],
 "metadata": {
  "kernelspec": {
   "display_name": "env_vtuber",
   "language": "python",
   "name": "python3"
  },
  "language_info": {
   "codemirror_mode": {
    "name": "ipython",
    "version": 3
   },
   "file_extension": ".py",
   "mimetype": "text/x-python",
   "name": "python",
   "nbconvert_exporter": "python",
   "pygments_lexer": "ipython3",
   "version": "3.11.12"
  }
 },
 "nbformat": 4,
 "nbformat_minor": 5
}
